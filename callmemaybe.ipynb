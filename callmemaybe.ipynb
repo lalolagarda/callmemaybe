{
 "cells": [
  {
   "cell_type": "markdown",
   "metadata": {},
   "source": [
    "# Telecomunicaciones: Call me Maybe"
   ]
  },
  {
   "cell_type": "markdown",
   "metadata": {},
   "source": [
    "El servicio de telefonia virtual CallMeMaybe está desarrollando una nueva función que brindará a los supervisores y las supervisores información sobre los operadores menos eficaces. Se considera que un operador es ineficaz si tiene una gran cantidad de llamadas entrantes perdidas (internas y externas) y un tiempo de espera prolongado para las llamadas entrantes. Además, si se supone que un operador debe realizar llamadas salientes, un número reducido de ellas también será un signo de ineficacia.icio de telefonía virtual d\n",
    "\n"
   ]
  },
  {
   "cell_type": "markdown",
   "metadata": {},
   "source": [
    "# DASHBOARD y PRESENTACION"
   ]
  },
  {
   "cell_type": "markdown",
   "metadata": {},
   "source": [
    "https://drive.google.com/file/d/1HV4i_BcIsX1VukmcViM05SY2GDZV0sh5/view?usp=drive_link"
   ]
  },
  {
   "cell_type": "markdown",
   "metadata": {},
   "source": [
    "Link de la presentacion y dashboard."
   ]
  },
  {
   "cell_type": "markdown",
   "metadata": {},
   "source": [
    "<div class=\"alert alert-block alert-success\">\n",
    "<b>Comentario del revisor (1ra Iteracion)</b> <a class=“tocSkip”></a>\n",
    "\n",
    "Muy bien, incluir esta introducción deja un poco más claro el que y cómo se realizará el proyecto\n",
    "</div>"
   ]
  },
  {
   "cell_type": "markdown",
   "metadata": {},
   "source": [
    "## Analisis Exploratorio de datos"
   ]
  },
  {
   "cell_type": "code",
   "execution_count": 1,
   "metadata": {},
   "outputs": [],
   "source": [
    "#Cargar librerias\n",
    "import pandas as pd\n",
    "import matplotlib.pyplot as plt\n",
    "import seaborn as sns\n",
    "from scipy.stats import ttest_ind\n"
   ]
  },
  {
   "cell_type": "code",
   "execution_count": 2,
   "metadata": {},
   "outputs": [],
   "source": [
    "# Cargar los datasets\n",
    "telecom_data = pd.read_csv('/datasets/telecom_dataset_us.csv')\n",
    "clients_data = pd.read_csv('/datasets/telecom_clients_us.csv')"
   ]
  },
  {
   "cell_type": "code",
   "execution_count": 3,
   "metadata": {},
   "outputs": [
    {
     "name": "stdout",
     "output_type": "stream",
     "text": [
      "Primeras filas del dataset telecom_data:\n",
      "   user_id                       date direction internal  operator_id  \\\n",
      "0   166377  2019-08-04 00:00:00+03:00        in    False          NaN   \n",
      "1   166377  2019-08-05 00:00:00+03:00       out     True     880022.0   \n",
      "2   166377  2019-08-05 00:00:00+03:00       out     True     880020.0   \n",
      "3   166377  2019-08-05 00:00:00+03:00       out     True     880020.0   \n",
      "4   166377  2019-08-05 00:00:00+03:00       out    False     880022.0   \n",
      "\n",
      "   is_missed_call  calls_count  call_duration  total_call_duration  \n",
      "0            True            2              0                    4  \n",
      "1            True            3              0                    5  \n",
      "2            True            1              0                    1  \n",
      "3           False            1             10                   18  \n",
      "4            True            3              0                   25   \n",
      "\n"
     ]
    }
   ],
   "source": [
    "# Mostrar las primeras filas de cada dataset\n",
    "print(\"Primeras filas del dataset telecom_data:\")\n",
    "print(telecom_data.head(), \"\\n\")"
   ]
  },
  {
   "cell_type": "code",
   "execution_count": 4,
   "metadata": {},
   "outputs": [
    {
     "name": "stdout",
     "output_type": "stream",
     "text": [
      "Primeras filas del dataset clients_data:\n",
      "   user_id tariff_plan  date_start\n",
      "0   166713           A  2019-08-15\n",
      "1   166901           A  2019-08-23\n",
      "2   168527           A  2019-10-29\n",
      "3   167097           A  2019-09-01\n",
      "4   168193           A  2019-10-16 \n",
      "\n"
     ]
    }
   ],
   "source": [
    "print(\"Primeras filas del dataset clients_data:\")\n",
    "print(clients_data.head(), \"\\n\")"
   ]
  },
  {
   "cell_type": "code",
   "execution_count": 5,
   "metadata": {},
   "outputs": [
    {
     "name": "stdout",
     "output_type": "stream",
     "text": [
      "Información general del dataset telecom_data:\n",
      "<class 'pandas.core.frame.DataFrame'>\n",
      "RangeIndex: 53902 entries, 0 to 53901\n",
      "Data columns (total 9 columns):\n",
      " #   Column               Non-Null Count  Dtype  \n",
      "---  ------               --------------  -----  \n",
      " 0   user_id              53902 non-null  int64  \n",
      " 1   date                 53902 non-null  object \n",
      " 2   direction            53902 non-null  object \n",
      " 3   internal             53785 non-null  object \n",
      " 4   operator_id          45730 non-null  float64\n",
      " 5   is_missed_call       53902 non-null  bool   \n",
      " 6   calls_count          53902 non-null  int64  \n",
      " 7   call_duration        53902 non-null  int64  \n",
      " 8   total_call_duration  53902 non-null  int64  \n",
      "dtypes: bool(1), float64(1), int64(4), object(3)\n",
      "memory usage: 3.3+ MB\n",
      "None \n",
      "\n"
     ]
    }
   ],
   "source": [
    "# Mostrar información general de los datasets\n",
    "print(\"Información general del dataset telecom_data:\")\n",
    "print(telecom_data.info(), \"\\n\")"
   ]
  },
  {
   "cell_type": "code",
   "execution_count": 6,
   "metadata": {},
   "outputs": [
    {
     "name": "stdout",
     "output_type": "stream",
     "text": [
      "Información general del dataset clients_data:\n",
      "<class 'pandas.core.frame.DataFrame'>\n",
      "RangeIndex: 732 entries, 0 to 731\n",
      "Data columns (total 3 columns):\n",
      " #   Column       Non-Null Count  Dtype \n",
      "---  ------       --------------  ----- \n",
      " 0   user_id      732 non-null    int64 \n",
      " 1   tariff_plan  732 non-null    object\n",
      " 2   date_start   732 non-null    object\n",
      "dtypes: int64(1), object(2)\n",
      "memory usage: 17.3+ KB\n",
      "None \n",
      "\n"
     ]
    }
   ],
   "source": [
    "print(\"Información general del dataset clients_data:\")\n",
    "print(clients_data.info(), \"\\n\")"
   ]
  },
  {
   "cell_type": "code",
   "execution_count": 7,
   "metadata": {},
   "outputs": [
    {
     "name": "stdout",
     "output_type": "stream",
     "text": [
      "Valores nulos en telecom_data:\n",
      "user_id                   0\n",
      "date                      0\n",
      "direction                 0\n",
      "internal                117\n",
      "operator_id            8172\n",
      "is_missed_call            0\n",
      "calls_count               0\n",
      "call_duration             0\n",
      "total_call_duration       0\n",
      "dtype: int64 \n",
      "\n",
      "Valores nulos en clients_data:\n",
      "user_id        0\n",
      "tariff_plan    0\n",
      "date_start     0\n",
      "dtype: int64 \n",
      "\n"
     ]
    }
   ],
   "source": [
    "# Revisar por valores nulos en telecom_data\n",
    "print(\"Valores nulos en telecom_data:\")\n",
    "print(telecom_data.isnull().sum(), \"\\n\")\n",
    "\n",
    "# Revisar por valores nulos en clients_data\n",
    "print(\"Valores nulos en clients_data:\")\n",
    "print(clients_data.isnull().sum(), \"\\n\")"
   ]
  },
  {
   "cell_type": "code",
   "execution_count": 8,
   "metadata": {},
   "outputs": [
    {
     "name": "stdout",
     "output_type": "stream",
     "text": [
      "Duplicados en telecom_data: 4900 \n",
      "\n",
      "Duplicados en clients_data: 0 \n",
      "\n"
     ]
    }
   ],
   "source": [
    "# Revisar por duplicados en telecom_data\n",
    "print(\"Duplicados en telecom_data:\", telecom_data.duplicated().sum(), \"\\n\")\n",
    "\n",
    "# Revisar por duplicados en clients_data\n",
    "print(\"Duplicados en clients_data:\", clients_data.duplicated().sum(), \"\\n\")"
   ]
  },
  {
   "cell_type": "code",
   "execution_count": 9,
   "metadata": {},
   "outputs": [],
   "source": [
    "# Manejar valores nulos\n",
    "# Eliminar filas con valores nulos en 'internal' y 'operator_id'\n",
    "telecom_data_cleaned = telecom_data.dropna(subset=['internal', 'operator_id'])\n",
    "\n",
    "# Eliminar filas duplicadas\n",
    "telecom_data_cleaned = telecom_data_cleaned.drop_duplicates()\n",
    "clients_data_cleaned = clients_data.drop_duplicates()\n"
   ]
  },
  {
   "cell_type": "code",
   "execution_count": 10,
   "metadata": {},
   "outputs": [
    {
     "name": "stdout",
     "output_type": "stream",
     "text": [
      "Valores nulos en telecom_data después de la limpieza:\n",
      "user_id                0\n",
      "date                   0\n",
      "direction              0\n",
      "internal               0\n",
      "operator_id            0\n",
      "is_missed_call         0\n",
      "calls_count            0\n",
      "call_duration          0\n",
      "total_call_duration    0\n",
      "dtype: int64 \n",
      "\n",
      "Valores nulos en clients_data después de la limpieza:\n",
      "user_id        0\n",
      "tariff_plan    0\n",
      "date_start     0\n",
      "dtype: int64 \n",
      "\n",
      "Duplicados en telecom_data después de la limpieza: 0 \n",
      "\n",
      "Duplicados en clients_data después de la limpieza: 0 \n",
      "\n"
     ]
    }
   ],
   "source": [
    "# Verificar nuevamente los valores nulos y duplicados después de la limpieza\n",
    "print(\"Valores nulos en telecom_data después de la limpieza:\")\n",
    "print(telecom_data_cleaned.isnull().sum(), \"\\n\")\n",
    "\n",
    "print(\"Valores nulos en clients_data después de la limpieza:\")\n",
    "print(clients_data_cleaned.isnull().sum(), \"\\n\")\n",
    "\n",
    "print(\"Duplicados en telecom_data después de la limpieza:\", telecom_data_cleaned.duplicated().sum(), \"\\n\")\n",
    "print(\"Duplicados en clients_data después de la limpieza:\", clients_data_cleaned.duplicated().sum(), \"\\n\")\n"
   ]
  },
  {
   "cell_type": "code",
   "execution_count": 11,
   "metadata": {},
   "outputs": [],
   "source": [
    "# Convertir la columna 'date' a formato datetime\n",
    "telecom_data_cleaned['date'] = pd.to_datetime(telecom_data_cleaned['date'])\n",
    "clients_data_cleaned['date_start'] = pd.to_datetime(clients_data_cleaned['date_start'])\n",
    "\n"
   ]
  },
  {
   "cell_type": "code",
   "execution_count": 12,
   "metadata": {},
   "outputs": [
    {
     "name": "stdout",
     "output_type": "stream",
     "text": [
      "Descripción estadística del dataset telecom_data:\n",
      "             user_id    operator_id   calls_count  call_duration  \\\n",
      "count   41491.000000   41491.000000  41491.000000   41491.000000   \n",
      "mean   167301.113543  916516.771155     16.921381    1010.940011   \n",
      "std       600.513986   21234.081589     59.786187    4066.666485   \n",
      "min    166377.000000  879896.000000      1.000000       0.000000   \n",
      "25%    166782.000000  900790.000000      1.000000       0.000000   \n",
      "50%    167175.000000  913938.000000      4.000000     106.000000   \n",
      "75%    167827.000000  937708.000000     14.000000     772.000000   \n",
      "max    168606.000000  973286.000000   4817.000000  144395.000000   \n",
      "\n",
      "       total_call_duration  \n",
      "count         41491.000000  \n",
      "mean           1323.153238  \n",
      "std            4788.953155  \n",
      "min               0.000000  \n",
      "25%              67.000000  \n",
      "50%             289.000000  \n",
      "75%            1107.000000  \n",
      "max          166155.000000   \n",
      "\n",
      "Descripción estadística del dataset clients_data:\n",
      "             user_id\n",
      "count     732.000000\n",
      "mean   167431.927596\n",
      "std       633.810383\n",
      "min    166373.000000\n",
      "25%    166900.750000\n",
      "50%    167432.000000\n",
      "75%    167973.000000\n",
      "max    168606.000000 \n",
      "\n"
     ]
    }
   ],
   "source": [
    "# Descripción estadística de los datasets\n",
    "print(\"Descripción estadística del dataset telecom_data:\")\n",
    "print(telecom_data_cleaned.describe(), \"\\n\")\n",
    "\n",
    "print(\"Descripción estadística del dataset clients_data:\")\n",
    "print(clients_data_cleaned.describe(), \"\\n\")\n"
   ]
  },
  {
   "cell_type": "markdown",
   "metadata": {},
   "source": [
    "<div class=\"alert alert-block alert-success\">\n",
    "<b>Comentario del revisor (1ra Iteracion)</b> <a class=“tocSkip”></a>\n",
    "\n",
    "Bien realizada la exploración inicial! Con este te aseguras de conocer los datos y que estén listos para el análisis\n",
    "</div>"
   ]
  },
  {
   "cell_type": "code",
   "execution_count": 15,
   "metadata": {},
   "outputs": [
    {
     "data": {
      "image/png": "[encoded data removed]",
      "text/plain": [
       "<Figure size 1000x600 with 1 Axes>"
      ]
     },
     "metadata": {},
     "output_type": "display_data"
    }
   ],
   "source": [
    "# Distribución de las llamadas por dirección\n",
    "plt.figure(figsize=(10, 6))\n",
    "sns.countplot(data=telecom_data_cleaned, x='direction')\n",
    "plt.title('Distribución de las llamadas por dirección')\n",
    "plt.xlabel('Dirección')\n",
    "plt.ylabel('Cantidad de llamadas')\n",
    "plt.show()"
   ]
  },
  {
   "cell_type": "markdown",
   "metadata": {},
   "source": [
    "La distribución de las llamadas por dirección muestra que hay más llamadas salientes que entrantes."
   ]
  },
  {
   "cell_type": "code",
   "execution_count": 16,
   "metadata": {},
   "outputs": [
    {
     "data": {
      "image/png": "[encoded data removed]",
      "text/plain": [
       "<Figure size 1000x600 with 1 Axes>"
      ]
     },
     "metadata": {},
     "output_type": "display_data"
    }
   ],
   "source": [
    "# Distribución de las llamadas perdidas\n",
    "plt.figure(figsize=(10, 6))\n",
    "sns.countplot(data=telecom_data_cleaned, x='is_missed_call')\n",
    "plt.title('Distribución de las llamadas perdidas')\n",
    "plt.xlabel('Llamada perdida')\n",
    "plt.ylabel('Cantidad de llamadas')\n",
    "plt.show()"
   ]
  },
  {
   "cell_type": "markdown",
   "metadata": {},
   "source": [
    "La distribución de las llamadas perdidas indica que hay una cantidad significativa de llamadas perdidas."
   ]
  },
  {
   "cell_type": "code",
   "execution_count": 17,
   "metadata": {},
   "outputs": [
    {
     "data": {
      "image/png": "[encoded data removed]",
      "text/plain": [
       "<Figure size 1000x600 with 1 Axes>"
      ]
     },
     "metadata": {},
     "output_type": "display_data"
    }
   ],
   "source": [
    "# Distribución de la duración de las llamadas\n",
    "plt.figure(figsize=(10, 6))\n",
    "sns.histplot(data=telecom_data_cleaned, x='call_duration', bins=30, kde=True)\n",
    "plt.title('Distribución de la duración de las llamadas')\n",
    "plt.xlabel('Duración de la llamada')\n",
    "plt.ylabel('Frecuencia')\n",
    "plt.show()"
   ]
  },
  {
   "cell_type": "code",
   "execution_count": 18,
   "metadata": {},
   "outputs": [
    {
     "data": {
      "image/png": "[encoded data removed]",
      "text/plain": [
       "<Figure size 1000x600 with 1 Axes>"
      ]
     },
     "metadata": {},
     "output_type": "display_data"
    }
   ],
   "source": [
    "# Distribución de la duración total de las llamadas\n",
    "plt.figure(figsize=(10, 6))\n",
    "sns.histplot(data=telecom_data_cleaned, x='total_call_duration', bins=30, kde=True)\n",
    "plt.title('Distribución de la duración total de las llamadas')\n",
    "plt.xlabel('Duración total de la llamada')\n",
    "plt.ylabel('Frecuencia')\n",
    "plt.show()"
   ]
  },
  {
   "cell_type": "markdown",
   "metadata": {},
   "source": [
    "La distribución de la duración de las llamadas y la duración total de las llamadas muestra que la mayoría de las llamadas son de corta duración."
   ]
  },
  {
   "cell_type": "code",
   "execution_count": 19,
   "metadata": {},
   "outputs": [
    {
     "data": {
      "image/png": "[encoded data removed]",
      "text/plain": [
       "<Figure size 1000x600 with 1 Axes>"
      ]
     },
     "metadata": {},
     "output_type": "display_data"
    }
   ],
   "source": [
    "# Distribución de las llamadas internas vs externas\n",
    "plt.figure(figsize=(10, 6))\n",
    "sns.countplot(data=telecom_data_cleaned, x='internal')\n",
    "plt.title('Distribución de las llamadas internas vs externas')\n",
    "plt.xlabel('Llamada interna')\n",
    "plt.ylabel('Cantidad de llamadas')\n",
    "plt.show()"
   ]
  },
  {
   "cell_type": "markdown",
   "metadata": {},
   "source": [
    "La distribución de las llamadas internas vs externas muestra que hay más llamadas externas que internas."
   ]
  },
  {
   "cell_type": "code",
   "execution_count": 20,
   "metadata": {},
   "outputs": [
    {
     "data": {
      "image/png": "[encoded data removed]",
      "text/plain": [
       "<Figure size 1000x600 with 1 Axes>"
      ]
     },
     "metadata": {},
     "output_type": "display_data"
    }
   ],
   "source": [
    "# Distribución de las llamadas por operador\n",
    "calls_by_operator = telecom_data_cleaned.groupby('operator_id')['calls_count'].sum().reset_index()\n",
    "plt.figure(figsize=(10, 6))\n",
    "sns.histplot(data=calls_by_operator, x='calls_count', bins=30, kde=True)\n",
    "plt.title('Distribución de las llamadas por operador')\n",
    "plt.xlabel('Cantidad de llamadas')\n",
    "plt.ylabel('Frecuencia')\n",
    "plt.show()"
   ]
  },
  {
   "cell_type": "code",
   "execution_count": 21,
   "metadata": {},
   "outputs": [
    {
     "data": {
      "image/png": "[encoded data removed]",
      "text/plain": [
       "<Figure size 1000x600 with 1 Axes>"
      ]
     },
     "metadata": {},
     "output_type": "display_data"
    }
   ],
   "source": [
    "# Distribución de las llamadas por cliente\n",
    "calls_by_client = telecom_data_cleaned.groupby('user_id')['calls_count'].sum().reset_index()\n",
    "plt.figure(figsize=(10, 6))\n",
    "sns.histplot(data=calls_by_client, x='calls_count', bins=30, kde=True)\n",
    "plt.title('Distribución de las llamadas por cliente')\n",
    "plt.xlabel('Cantidad de llamadas')\n",
    "plt.ylabel('Frecuencia')\n",
    "plt.show()"
   ]
  },
  {
   "cell_type": "markdown",
   "metadata": {},
   "source": [
    "La distribución de las llamadas por operador y por cliente muestra que algunos operadores y clientes tienen un volumen significativamente mayor de llamadas."
   ]
  },
  {
   "cell_type": "markdown",
   "metadata": {},
   "source": [
    "## Identificar Operadores Ineficaces"
   ]
  },
  {
   "cell_type": "code",
   "execution_count": 22,
   "metadata": {},
   "outputs": [
    {
     "name": "stdout",
     "output_type": "stream",
     "text": [
      "Operadores con una gran cantidad de llamadas entrantes perdidas:\n",
      "     operator_id  calls_count\n",
      "98      913942.0           52\n",
      "196     940588.0           30\n",
      "210     944226.0           30\n",
      "6       885890.0           26\n",
      "206     944216.0           24\n",
      "179     937956.0           24\n",
      "222     951508.0           21\n",
      "5       885876.0           20\n",
      "208     944220.0           18\n",
      "209     944222.0           17 \n",
      "\n"
     ]
    }
   ],
   "source": [
    "# Identificar operadores con una gran cantidad de llamadas entrantes perdidas\n",
    "missed_calls = telecom_data_cleaned[(telecom_data_cleaned['direction'] == 'in') & (telecom_data_cleaned['is_missed_call'] == 1)]\n",
    "missed_calls_by_operator = missed_calls.groupby('operator_id')['calls_count'].sum().reset_index()\n",
    "missed_calls_by_operator = missed_calls_by_operator.sort_values(by='calls_count', ascending=False)\n",
    "print(\"Operadores con una gran cantidad de llamadas entrantes perdidas:\")\n",
    "print(missed_calls_by_operator.head(10), \"\\n\")\n",
    "\n"
   ]
  },
  {
   "cell_type": "code",
   "execution_count": 23,
   "metadata": {},
   "outputs": [
    {
     "name": "stdout",
     "output_type": "stream",
     "text": [
      "Operadores con un tiempo de espera prolongado para las llamadas entrantes:\n",
      "     operator_id  total_call_duration\n",
      "674     952948.0         12582.937500\n",
      "328     919204.0          6889.600000\n",
      "671     952734.0          5932.315789\n",
      "288     913938.0          5113.766234\n",
      "358     921318.0          4928.843137\n",
      "326     919166.0          4547.571429\n",
      "445     931458.0          4207.860000\n",
      "206     906070.0          4118.266667\n",
      "577     940630.0          3910.632653\n",
      "570     940588.0          3820.173077 \n",
      "\n"
     ]
    }
   ],
   "source": [
    "# Identificar operadores con un tiempo de espera prolongado para las llamadas entrantes\n",
    "long_wait_calls = telecom_data_cleaned[(telecom_data_cleaned['direction'] == 'in') & (telecom_data_cleaned['total_call_duration'] > telecom_data_cleaned['call_duration'])]\n",
    "long_wait_calls_by_operator = long_wait_calls.groupby('operator_id')['total_call_duration'].mean().reset_index()\n",
    "long_wait_calls_by_operator = long_wait_calls_by_operator.sort_values(by='total_call_duration', ascending=False)\n",
    "print(\"Operadores con un tiempo de espera prolongado para las llamadas entrantes:\")\n",
    "print(long_wait_calls_by_operator.head(10), \"\\n\")\n"
   ]
  },
  {
   "cell_type": "code",
   "execution_count": 24,
   "metadata": {
    "scrolled": true
   },
   "outputs": [
    {
     "name": "stdout",
     "output_type": "stream",
     "text": [
      "Operadores con un número reducido de llamadas salientes:\n",
      "     operator_id  calls_count\n",
      "793     955086.0            1\n",
      "841     963716.0            1\n",
      "293     914272.0            1\n",
      "495     932246.0            1\n",
      "168     902238.0            1\n",
      "653     941816.0            1\n",
      "853     966686.0            1\n",
      "654     941826.0            1\n",
      "102     895266.0            1\n",
      "545     937720.0            1 \n",
      "\n"
     ]
    }
   ],
   "source": [
    "# Identificar operadores con un número reducido de llamadas salientes\n",
    "outgoing_calls = telecom_data_cleaned[telecom_data_cleaned['direction'] == 'out']\n",
    "outgoing_calls_by_operator = outgoing_calls.groupby('operator_id')['calls_count'].sum().reset_index()\n",
    "outgoing_calls_by_operator = outgoing_calls_by_operator.sort_values(by='calls_count')\n",
    "print(\"Operadores con un número reducido de llamadas salientes:\")\n",
    "print(outgoing_calls_by_operator.head(10), \"\\n\")\n"
   ]
  },
  {
   "cell_type": "code",
   "execution_count": 25,
   "metadata": {},
   "outputs": [],
   "source": [
    "# Crear una columna para identificar operadores ineficaces\n",
    "telecom_data_cleaned['ineffective'] = telecom_data_cleaned['operator_id'].isin(missed_calls_by_operator.head(10)['operator_id']) | \\\n",
    "                                      telecom_data_cleaned['operator_id'].isin(long_wait_calls_by_operator.head(10)['operator_id']) | \\\n",
    "                                      telecom_data_cleaned['operator_id'].isin(outgoing_calls_by_operator.head(10)['operator_id'])\n",
    "\n"
   ]
  },
  {
   "cell_type": "code",
   "execution_count": 28,
   "metadata": {},
   "outputs": [
    {
     "data": {
      "text/plain": [
       "1        False\n",
       "2        False\n",
       "3        False\n",
       "4        False\n",
       "5        False\n",
       "         ...  \n",
       "53895    False\n",
       "53896    False\n",
       "53897    False\n",
       "53898    False\n",
       "53899    False\n",
       "Name: ineffective, Length: 41491, dtype: bool"
      ]
     },
     "metadata": {},
     "output_type": "display_data"
    }
   ],
   "source": [
    "display(telecom_data_cleaned['ineffective']== 'True')"
   ]
  },
  {
   "cell_type": "code",
   "execution_count": 36,
   "metadata": {},
   "outputs": [
    {
     "name": "stdout",
     "output_type": "stream",
     "text": [
      "Operadores ineficaces:\n"
     ]
    },
    {
     "data": {
      "text/html": [
       "<div>\n",
       "<style scoped>\n",
       "    .dataframe tbody tr th:only-of-type {\n",
       "        vertical-align: middle;\n",
       "    }\n",
       "\n",
       "    .dataframe tbody tr th {\n",
       "        vertical-align: top;\n",
       "    }\n",
       "\n",
       "    .dataframe thead th {\n",
       "        text-align: right;\n",
       "    }\n",
       "</style>\n",
       "<table border=\"1\" class=\"dataframe\">\n",
       "  <thead>\n",
       "    <tr style=\"text-align: right;\">\n",
       "      <th></th>\n",
       "      <th>operator_id</th>\n",
       "      <th>calls_count</th>\n",
       "      <th>total_call_duration</th>\n",
       "    </tr>\n",
       "  </thead>\n",
       "  <tbody>\n",
       "    <tr>\n",
       "      <th>6569</th>\n",
       "      <td>885890.0</td>\n",
       "      <td>181</td>\n",
       "      <td>22349</td>\n",
       "    </tr>\n",
       "    <tr>\n",
       "      <th>6570</th>\n",
       "      <td>885876.0</td>\n",
       "      <td>184</td>\n",
       "      <td>24152</td>\n",
       "    </tr>\n",
       "    <tr>\n",
       "      <th>6571</th>\n",
       "      <td>885876.0</td>\n",
       "      <td>219</td>\n",
       "      <td>5687</td>\n",
       "    </tr>\n",
       "    <tr>\n",
       "      <th>6572</th>\n",
       "      <td>885876.0</td>\n",
       "      <td>9</td>\n",
       "      <td>473</td>\n",
       "    </tr>\n",
       "    <tr>\n",
       "      <th>6573</th>\n",
       "      <td>885890.0</td>\n",
       "      <td>113</td>\n",
       "      <td>3691</td>\n",
       "    </tr>\n",
       "    <tr>\n",
       "      <th>6574</th>\n",
       "      <td>885890.0</td>\n",
       "      <td>5</td>\n",
       "      <td>570</td>\n",
       "    </tr>\n",
       "    <tr>\n",
       "      <th>6577</th>\n",
       "      <td>885890.0</td>\n",
       "      <td>182</td>\n",
       "      <td>6486</td>\n",
       "    </tr>\n",
       "    <tr>\n",
       "      <th>6578</th>\n",
       "      <td>885876.0</td>\n",
       "      <td>12</td>\n",
       "      <td>745</td>\n",
       "    </tr>\n",
       "    <tr>\n",
       "      <th>6579</th>\n",
       "      <td>885890.0</td>\n",
       "      <td>308</td>\n",
       "      <td>40739</td>\n",
       "    </tr>\n",
       "    <tr>\n",
       "      <th>6580</th>\n",
       "      <td>885890.0</td>\n",
       "      <td>15</td>\n",
       "      <td>1442</td>\n",
       "    </tr>\n",
       "    <tr>\n",
       "      <th>6581</th>\n",
       "      <td>885876.0</td>\n",
       "      <td>265</td>\n",
       "      <td>35448</td>\n",
       "    </tr>\n",
       "    <tr>\n",
       "      <th>6582</th>\n",
       "      <td>885890.0</td>\n",
       "      <td>1</td>\n",
       "      <td>9</td>\n",
       "    </tr>\n",
       "    <tr>\n",
       "      <th>6585</th>\n",
       "      <td>885876.0</td>\n",
       "      <td>185</td>\n",
       "      <td>6036</td>\n",
       "    </tr>\n",
       "    <tr>\n",
       "      <th>6587</th>\n",
       "      <td>885876.0</td>\n",
       "      <td>11</td>\n",
       "      <td>661</td>\n",
       "    </tr>\n",
       "    <tr>\n",
       "      <th>6588</th>\n",
       "      <td>885890.0</td>\n",
       "      <td>116</td>\n",
       "      <td>3859</td>\n",
       "    </tr>\n",
       "    <tr>\n",
       "      <th>6590</th>\n",
       "      <td>885876.0</td>\n",
       "      <td>170</td>\n",
       "      <td>24643</td>\n",
       "    </tr>\n",
       "    <tr>\n",
       "      <th>6591</th>\n",
       "      <td>885890.0</td>\n",
       "      <td>5</td>\n",
       "      <td>304</td>\n",
       "    </tr>\n",
       "    <tr>\n",
       "      <th>6592</th>\n",
       "      <td>885890.0</td>\n",
       "      <td>230</td>\n",
       "      <td>35295</td>\n",
       "    </tr>\n",
       "    <tr>\n",
       "      <th>6593</th>\n",
       "      <td>885876.0</td>\n",
       "      <td>177</td>\n",
       "      <td>6363</td>\n",
       "    </tr>\n",
       "    <tr>\n",
       "      <th>6595</th>\n",
       "      <td>885890.0</td>\n",
       "      <td>20</td>\n",
       "      <td>2056</td>\n",
       "    </tr>\n",
       "    <tr>\n",
       "      <th>6596</th>\n",
       "      <td>885876.0</td>\n",
       "      <td>112</td>\n",
       "      <td>19939</td>\n",
       "    </tr>\n",
       "    <tr>\n",
       "      <th>6598</th>\n",
       "      <td>885890.0</td>\n",
       "      <td>240</td>\n",
       "      <td>8019</td>\n",
       "    </tr>\n",
       "    <tr>\n",
       "      <th>6599</th>\n",
       "      <td>885890.0</td>\n",
       "      <td>417</td>\n",
       "      <td>49942</td>\n",
       "    </tr>\n",
       "    <tr>\n",
       "      <th>6600</th>\n",
       "      <td>885876.0</td>\n",
       "      <td>4</td>\n",
       "      <td>196</td>\n",
       "    </tr>\n",
       "    <tr>\n",
       "      <th>6601</th>\n",
       "      <td>885876.0</td>\n",
       "      <td>127</td>\n",
       "      <td>3788</td>\n",
       "    </tr>\n",
       "    <tr>\n",
       "      <th>6602</th>\n",
       "      <td>885876.0</td>\n",
       "      <td>128</td>\n",
       "      <td>15473</td>\n",
       "    </tr>\n",
       "    <tr>\n",
       "      <th>6603</th>\n",
       "      <td>885876.0</td>\n",
       "      <td>8</td>\n",
       "      <td>545</td>\n",
       "    </tr>\n",
       "    <tr>\n",
       "      <th>6604</th>\n",
       "      <td>885890.0</td>\n",
       "      <td>335</td>\n",
       "      <td>11630</td>\n",
       "    </tr>\n",
       "    <tr>\n",
       "      <th>6605</th>\n",
       "      <td>885876.0</td>\n",
       "      <td>89</td>\n",
       "      <td>3109</td>\n",
       "    </tr>\n",
       "  </tbody>\n",
       "</table>\n",
       "</div>"
      ],
      "text/plain": [
       "      operator_id  calls_count  total_call_duration\n",
       "6569     885890.0          181                22349\n",
       "6570     885876.0          184                24152\n",
       "6571     885876.0          219                 5687\n",
       "6572     885876.0            9                  473\n",
       "6573     885890.0          113                 3691\n",
       "6574     885890.0            5                  570\n",
       "6577     885890.0          182                 6486\n",
       "6578     885876.0           12                  745\n",
       "6579     885890.0          308                40739\n",
       "6580     885890.0           15                 1442\n",
       "6581     885876.0          265                35448\n",
       "6582     885890.0            1                    9\n",
       "6585     885876.0          185                 6036\n",
       "6587     885876.0           11                  661\n",
       "6588     885890.0          116                 3859\n",
       "6590     885876.0          170                24643\n",
       "6591     885890.0            5                  304\n",
       "6592     885890.0          230                35295\n",
       "6593     885876.0          177                 6363\n",
       "6595     885890.0           20                 2056\n",
       "6596     885876.0          112                19939\n",
       "6598     885890.0          240                 8019\n",
       "6599     885890.0          417                49942\n",
       "6600     885876.0            4                  196\n",
       "6601     885876.0          127                 3788\n",
       "6602     885876.0          128                15473\n",
       "6603     885876.0            8                  545\n",
       "6604     885890.0          335                11630\n",
       "6605     885876.0           89                 3109"
      ]
     },
     "metadata": {},
     "output_type": "display_data"
    },
    {
     "name": "stdout",
     "output_type": "stream",
     "text": [
      "\n",
      "Cantidad de operadores ineficaces: 29\n"
     ]
    }
   ],
   "source": [
    "# Mostrar y contar los operadores ineficaces\n",
    "ineffective_operators = telecom_data_cleaned[telecom_data_cleaned['ineffective']]\n",
    "print(\"Operadores ineficaces:\")\n",
    "display(ineffective_operators[['operator_id', 'calls_count', 'total_call_duration']].drop_duplicates().head(29))\n",
    "print(\"\\nCantidad de operadores ineficaces:\", ineffective_operators['operator_id'].nunique())"
   ]
  },
  {
   "cell_type": "code",
   "execution_count": 29,
   "metadata": {},
   "outputs": [
    {
     "data": {
      "image/png": "[encoded data removed]",
      "text/plain": [
       "<Figure size 1000x600 with 1 Axes>"
      ]
     },
     "metadata": {},
     "output_type": "display_data"
    }
   ],
   "source": [
    "# Gráfico de operadores eficaces vs ineficaces\n",
    "ineffective_counts = telecom_data_cleaned['ineffective'].value_counts()\n",
    "plt.figure(figsize=(10, 6))\n",
    "sns.barplot(x=ineffective_counts.index, y=ineffective_counts.values)\n",
    "plt.title('Operadores Eficaces vs Ineficaces')\n",
    "plt.xlabel('Ineficaz')\n",
    "plt.ylabel('Cantidad de Operadores')\n",
    "plt.show()"
   ]
  },
  {
   "cell_type": "markdown",
   "metadata": {},
   "source": [
    "Los operadores con una gran cantidad de llamadas entrantes perdidas, un tiempo de espera prolongado para las llamadas entrantes y un número reducido de llamadas salientes fueron identificados como ineficaces.\n",
    "Se creó una columna para identificar operadores ineficaces y se graficó la cantidad de operadores eficaces vs ineficaces."
   ]
  },
  {
   "cell_type": "markdown",
   "metadata": {},
   "source": [
    "## Probar Hipotesis estadisticas"
   ]
  },
  {
   "cell_type": "code",
   "execution_count": 30,
   "metadata": {},
   "outputs": [
    {
     "name": "stdout",
     "output_type": "stream",
     "text": [
      "T-statistic: 54.630696036090164\n",
      "P-value: 0.0\n"
     ]
    }
   ],
   "source": [
    "# Hipótesis: Los operadores ineficaces tienen un tiempo de espera promedio mayor que los operadores eficaces\n",
    "\n",
    "# Operadores ineficaces\n",
    "ineffective_wait_times = telecom_data_cleaned[telecom_data_cleaned['ineffective']]['total_call_duration']\n",
    "\n",
    "# Operadores eficaces\n",
    "effective_wait_times = telecom_data_cleaned[~telecom_data_cleaned['ineffective']]['total_call_duration']\n",
    "\n",
    "# Prueba t para comparar los tiempos de espera\n",
    "t_stat, p_value = ttest_ind(ineffective_wait_times.dropna(), effective_wait_times.dropna())\n",
    "print(f\"T-statistic: {t_stat}\")\n",
    "print(f\"P-value: {p_value}\")\n",
    "\n"
   ]
  },
  {
   "cell_type": "code",
   "execution_count": 31,
   "metadata": {},
   "outputs": [
    {
     "name": "stdout",
     "output_type": "stream",
     "text": [
      "Conclusión: Hay una diferencia estadísticamente significativa en los tiempos de espera entre operadores ineficaces y eficaces.\n"
     ]
    }
   ],
   "source": [
    "if p_value < 0.05:\n",
    "    print(\"Conclusión: Hay una diferencia estadísticamente significativa en los tiempos de espera entre operadores ineficaces y eficaces.\")\n",
    "else:\n",
    "    print(\"Conclusión: No hay una diferencia estadísticamente significativa en los tiempos de espera entre operadores ineficaces y eficaces.\")\n"
   ]
  },
  {
   "cell_type": "markdown",
   "metadata": {},
   "source": [
    "La prueba t para comparar los tiempos de espera entre operadores ineficaces y eficaces mostró que hay una diferencia estadísticamente significativa en los tiempos de espera, lo que sugiere que los operadores ineficaces tienen un tiempo de espera promedio mayor."
   ]
  },
  {
   "cell_type": "markdown",
   "metadata": {},
   "source": [
    "## Conclusiones"
   ]
  },
  {
   "cell_type": "markdown",
   "metadata": {},
   "source": [
    "Acorde al analisis se logro identificar a los operadores ineficacez, con base en llamadas perdidas, tiempo de espera prolongado y pocas llamadas salientes. No solo basto con eso para determinar si en efecto eran ineficacez, si no que ademas probamos estadisticamente la hipotesis, y nos arrojo que en efecto hay  un total de 29 operadores ineficacez. Por lo que se sugiere despedirlos o en dado caso llamarles la atencion."
   ]
  }
 ],
 "metadata": {
  "ExecuteTimeLog": [
   {
    "duration": 2530,
    "start_time": "2025-03-07T17:41:24.868Z"
   },
   {
    "duration": 70,
    "start_time": "2025-03-07T17:41:29.595Z"
   },
   {
    "duration": 11,
    "start_time": "2025-03-07T17:41:38.502Z"
   },
   {
    "duration": 4,
    "start_time": "2025-03-07T17:41:46.262Z"
   },
   {
    "duration": 17,
    "start_time": "2025-03-07T17:41:51.431Z"
   },
   {
    "duration": 9,
    "start_time": "2025-03-07T17:42:01.604Z"
   },
   {
    "duration": 10,
    "start_time": "2025-03-07T17:47:50.016Z"
   },
   {
    "duration": 27,
    "start_time": "2025-03-07T17:47:51.735Z"
   },
   {
    "duration": 141,
    "start_time": "2025-03-07T17:47:57.633Z"
   },
   {
    "duration": 106,
    "start_time": "2025-03-07T17:48:03.925Z"
   },
   {
    "duration": 508,
    "start_time": "2025-03-07T17:48:07.950Z"
   },
   {
    "duration": 468,
    "start_time": "2025-03-07T17:48:13.966Z"
   },
   {
    "duration": 12,
    "start_time": "2025-03-07T17:48:33.372Z"
   },
   {
    "duration": 13,
    "start_time": "2025-03-07T17:48:36.089Z"
   },
   {
    "duration": 13,
    "start_time": "2025-03-07T17:48:38.244Z"
   },
   {
    "duration": 5,
    "start_time": "2025-03-07T17:48:53.601Z"
   },
   {
    "duration": 5,
    "start_time": "2025-03-07T17:48:54.891Z"
   },
   {
    "duration": 4,
    "start_time": "2025-03-07T17:48:56.114Z"
   },
   {
    "duration": 4,
    "start_time": "2025-03-07T17:48:58.849Z"
   },
   {
    "duration": 792,
    "start_time": "2025-03-07T18:20:49.389Z"
   },
   {
    "duration": 41,
    "start_time": "2025-03-07T18:20:50.891Z"
   },
   {
    "duration": 7,
    "start_time": "2025-03-07T18:20:52.623Z"
   },
   {
    "duration": 4,
    "start_time": "2025-03-07T18:20:55.259Z"
   },
   {
    "duration": 16,
    "start_time": "2025-03-07T18:20:57.878Z"
   },
   {
    "duration": 8,
    "start_time": "2025-03-07T18:21:00.702Z"
   },
   {
    "duration": 10,
    "start_time": "2025-03-07T18:21:02.867Z"
   },
   {
    "duration": 5,
    "start_time": "2025-03-07T18:52:57.144Z"
   },
   {
    "duration": 3,
    "start_time": "2025-03-07T18:53:02.032Z"
   },
   {
    "duration": 786,
    "start_time": "2025-03-07T18:53:10.938Z"
   },
   {
    "duration": 42,
    "start_time": "2025-03-07T18:53:12.700Z"
   },
   {
    "duration": 8,
    "start_time": "2025-03-07T18:53:13.663Z"
   },
   {
    "duration": 4,
    "start_time": "2025-03-07T18:53:14.303Z"
   },
   {
    "duration": 16,
    "start_time": "2025-03-07T18:53:15.178Z"
   },
   {
    "duration": 9,
    "start_time": "2025-03-07T18:53:16.159Z"
   },
   {
    "duration": 10,
    "start_time": "2025-03-07T18:53:17.048Z"
   },
   {
    "duration": 16,
    "start_time": "2025-03-07T18:53:18.927Z"
   },
   {
    "duration": 23,
    "start_time": "2025-03-07T18:53:32.192Z"
   },
   {
    "duration": 22,
    "start_time": "2025-03-07T18:53:34.021Z"
   },
   {
    "duration": 10,
    "start_time": "2025-03-07T18:53:39.550Z"
   },
   {
    "duration": 20,
    "start_time": "2025-03-07T18:53:40.532Z"
   },
   {
    "duration": 125,
    "start_time": "2025-03-07T18:53:41.264Z"
   },
   {
    "duration": 410,
    "start_time": "2025-03-07T18:53:42.028Z"
   },
   {
    "duration": 495,
    "start_time": "2025-03-07T18:53:43.205Z"
   },
   {
    "duration": 126,
    "start_time": "2025-03-07T18:53:44.501Z"
   },
   {
    "duration": 241,
    "start_time": "2025-03-07T18:53:45.396Z"
   },
   {
    "duration": 245,
    "start_time": "2025-03-07T18:53:46.498Z"
   },
   {
    "duration": 11,
    "start_time": "2025-03-07T18:53:48.806Z"
   },
   {
    "duration": 12,
    "start_time": "2025-03-07T18:53:55.309Z"
   },
   {
    "duration": 12,
    "start_time": "2025-03-07T18:54:01.552Z"
   },
   {
    "duration": 5,
    "start_time": "2025-03-07T18:54:06.163Z"
   },
   {
    "duration": 5,
    "start_time": "2025-03-07T18:54:07.251Z"
   },
   {
    "duration": 4,
    "start_time": "2025-03-07T18:54:08.164Z"
   },
   {
    "duration": 7,
    "start_time": "2025-03-07T18:54:10.484Z"
   },
   {
    "duration": 3,
    "start_time": "2025-03-07T18:54:18.519Z"
   },
   {
    "duration": 2525,
    "start_time": "2025-03-11T16:49:44.794Z"
   },
   {
    "duration": 66,
    "start_time": "2025-03-11T16:49:49.954Z"
   },
   {
    "duration": 8,
    "start_time": "2025-03-11T16:49:50.702Z"
   },
   {
    "duration": 6,
    "start_time": "2025-03-11T16:49:51.373Z"
   },
   {
    "duration": 14,
    "start_time": "2025-03-11T16:49:52.023Z"
   },
   {
    "duration": 9,
    "start_time": "2025-03-11T16:49:52.643Z"
   },
   {
    "duration": 12,
    "start_time": "2025-03-11T16:49:53.373Z"
   },
   {
    "duration": 16,
    "start_time": "2025-03-11T16:49:54.142Z"
   },
   {
    "duration": 23,
    "start_time": "2025-03-11T16:49:56.595Z"
   },
   {
    "duration": 20,
    "start_time": "2025-03-11T16:50:10.986Z"
   },
   {
    "duration": 10,
    "start_time": "2025-03-11T16:50:15.150Z"
   },
   {
    "duration": 22,
    "start_time": "2025-03-11T16:50:16.518Z"
   },
   {
    "duration": 115,
    "start_time": "2025-03-11T16:52:40.157Z"
   },
   {
    "duration": 5,
    "start_time": "2025-03-11T16:52:46.532Z"
   },
   {
    "duration": 117,
    "start_time": "2025-03-11T16:56:27.456Z"
   },
   {
    "duration": 102,
    "start_time": "2025-03-11T16:56:33.029Z"
   },
   {
    "duration": 413,
    "start_time": "2025-03-11T16:56:34.831Z"
   },
   {
    "duration": 409,
    "start_time": "2025-03-11T16:56:36.130Z"
   },
   {
    "duration": 121,
    "start_time": "2025-03-11T16:56:37.425Z"
   },
   {
    "duration": 256,
    "start_time": "2025-03-11T16:56:39.038Z"
   },
   {
    "duration": 300,
    "start_time": "2025-03-11T16:56:39.711Z"
   },
   {
    "duration": 11,
    "start_time": "2025-03-11T16:57:26.461Z"
   },
   {
    "duration": 11,
    "start_time": "2025-03-11T16:57:27.683Z"
   },
   {
    "duration": 10,
    "start_time": "2025-03-11T16:57:30.327Z"
   },
   {
    "duration": 6,
    "start_time": "2025-03-11T16:57:32.454Z"
   },
   {
    "duration": 6,
    "start_time": "2025-03-11T16:57:47.516Z"
   },
   {
    "duration": 4,
    "start_time": "2025-03-11T16:58:03.892Z"
   },
   {
    "duration": 5,
    "start_time": "2025-03-11T16:58:12.005Z"
   },
   {
    "duration": 112,
    "start_time": "2025-03-11T16:58:17.272Z"
   },
   {
    "duration": 8,
    "start_time": "2025-03-11T16:59:12.470Z"
   },
   {
    "duration": 4,
    "start_time": "2025-03-11T16:59:15.687Z"
   },
   {
    "duration": 9,
    "start_time": "2025-03-11T17:04:32.899Z"
   },
   {
    "duration": 224,
    "start_time": "2025-03-11T17:07:32.542Z"
   },
   {
    "duration": 10,
    "start_time": "2025-03-11T17:07:42.979Z"
   },
   {
    "duration": 9,
    "start_time": "2025-03-11T17:08:20.200Z"
   },
   {
    "duration": 13,
    "start_time": "2025-03-11T17:08:35.547Z"
   },
   {
    "duration": 9,
    "start_time": "2025-03-12T04:23:44.488Z"
   }
  ],
  "kernelspec": {
   "display_name": "Python 3 (ipykernel)",
   "language": "python",
   "name": "python3"
  },
  "language_info": {
   "codemirror_mode": {
    "name": "ipython",
    "version": 3
   },
   "file_extension": ".py",
   "mimetype": "text/x-python",
   "name": "python",
   "nbconvert_exporter": "python",
   "pygments_lexer": "ipython3",
   "version": "3.9.19"
  },
  "toc": {
   "base_numbering": 1,
   "nav_menu": {},
   "number_sections": true,
   "sideBar": true,
   "skip_h1_title": true,
   "title_cell": "Table of Contents",
   "title_sidebar": "Contents",
   "toc_cell": false,
   "toc_position": {},
   "toc_section_display": true,
   "toc_window_display": false
  }
 },
 "nbformat": 4,
 "nbformat_minor": 2
}
